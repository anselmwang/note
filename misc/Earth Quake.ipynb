{
 "cells": [
  {
   "cell_type": "markdown",
   "metadata": {},
   "source": [
    "# A quick analysis on China's earthquake distribution\n",
    "\n",
    "If you scroll to the very end, you will see according our analysis result is similar to earthquake zone distribution of China."
   ]
  },
  {
   "cell_type": "code",
   "execution_count": 1,
   "metadata": {
    "collapsed": true
   },
   "outputs": [],
   "source": [
    "%matplotlib inline\n",
    "mpl.rcParams['font.sans-serif'] = ['SimHei'] \n",
    "mpl.rcParams['font.family'] = ['SimHei']\n",
    "mpl.rcParams['axes.unicode_minus'] = False "
   ]
  },
  {
   "cell_type": "code",
   "execution_count": 2,
   "metadata": {
    "collapsed": false
   },
   "outputs": [],
   "source": [
    "df = StatUtil.FromBingTsv(r\"d:\\temp\\a.txt\")"
   ]
  },
  {
   "cell_type": "code",
   "execution_count": 3,
   "metadata": {
    "collapsed": false
   },
   "outputs": [
    {
     "data": {
      "text/html": [
       "<div>\n",
       "<table border=\"1\" class=\"dataframe\">\n",
       "  <thead>\n",
       "    <tr style=\"text-align: right;\">\n",
       "      <th></th>\n",
       "      <th>日期</th>\n",
       "      <th>时间</th>\n",
       "      <th>纬度(°)</th>\n",
       "      <th>经度(°)</th>\n",
       "      <th>深度(km)</th>\n",
       "      <th>震级类型</th>\n",
       "      <th>震级值</th>\n",
       "      <th>事件类型</th>\n",
       "      <th>参考地名</th>\n",
       "    </tr>\n",
       "  </thead>\n",
       "  <tbody>\n",
       "    <tr>\n",
       "      <th>0</th>\n",
       "      <td>2016-04-26</td>\n",
       "      <td>17:33:53.1</td>\n",
       "      <td>39.83</td>\n",
       "      <td>75.11</td>\n",
       "      <td>8</td>\n",
       "      <td>Ms</td>\n",
       "      <td>3.3</td>\n",
       "      <td>eq</td>\n",
       "      <td>新疆克孜勒苏州乌恰县</td>\n",
       "    </tr>\n",
       "    <tr>\n",
       "      <th>1</th>\n",
       "      <td>2016-04-26</td>\n",
       "      <td>02:13:12.6</td>\n",
       "      <td>21.16</td>\n",
       "      <td>121.04</td>\n",
       "      <td>8</td>\n",
       "      <td>Ms</td>\n",
       "      <td>4.8</td>\n",
       "      <td>eq</td>\n",
       "      <td>台湾屏东县海域</td>\n",
       "    </tr>\n",
       "    <tr>\n",
       "      <th>2</th>\n",
       "      <td>2016-04-25</td>\n",
       "      <td>17:16:55.8</td>\n",
       "      <td>34.14</td>\n",
       "      <td>87.34</td>\n",
       "      <td>8</td>\n",
       "      <td>Ms</td>\n",
       "      <td>3.6</td>\n",
       "      <td>eq</td>\n",
       "      <td>西藏那曲地区双湖县</td>\n",
       "    </tr>\n",
       "    <tr>\n",
       "      <th>3</th>\n",
       "      <td>2016-04-24</td>\n",
       "      <td>23:34:50.3</td>\n",
       "      <td>27.79</td>\n",
       "      <td>100.82</td>\n",
       "      <td>7</td>\n",
       "      <td>ML</td>\n",
       "      <td>2.2</td>\n",
       "      <td>eq</td>\n",
       "      <td>四川盐源</td>\n",
       "    </tr>\n",
       "    <tr>\n",
       "      <th>4</th>\n",
       "      <td>2016-04-24</td>\n",
       "      <td>22:22:18.0</td>\n",
       "      <td>28.40</td>\n",
       "      <td>104.81</td>\n",
       "      <td>5</td>\n",
       "      <td>ML</td>\n",
       "      <td>1.4</td>\n",
       "      <td>eq</td>\n",
       "      <td>四川珙县</td>\n",
       "    </tr>\n",
       "  </tbody>\n",
       "</table>\n",
       "</div>"
      ],
      "text/plain": [
       "           日期          时间  纬度(°)   经度(°)  深度(km) 震级类型  震级值 事件类型        参考地名\n",
       "0  2016-04-26  17:33:53.1  39.83   75.11       8   Ms  3.3   eq  新疆克孜勒苏州乌恰县\n",
       "1  2016-04-26  02:13:12.6  21.16  121.04       8   Ms  4.8   eq     台湾屏东县海域\n",
       "2  2016-04-25  17:16:55.8  34.14   87.34       8   Ms  3.6   eq   西藏那曲地区双湖县\n",
       "3  2016-04-24  23:34:50.3  27.79  100.82       7   ML  2.2   eq        四川盐源\n",
       "4  2016-04-24  22:22:18.0  28.40  104.81       5   ML  1.4   eq        四川珙县"
      ]
     },
     "execution_count": 3,
     "metadata": {},
     "output_type": "execute_result"
    }
   ],
   "source": [
    "df.head()"
   ]
  },
  {
   "cell_type": "code",
   "execution_count": 4,
   "metadata": {
    "collapsed": false
   },
   "outputs": [
    {
     "data": {
      "text/plain": [
       "(array([ 1082.,   681.,   195.,    63.,    28.,    11.,     8.,    10.,\n",
       "            3.,     4.]),\n",
       " array([ 1.  ,  1.65,  2.3 ,  2.95,  3.6 ,  4.25,  4.9 ,  5.55,  6.2 ,\n",
       "         6.85,  7.5 ]),\n",
       " <a list of 10 Patch objects>)"
      ]
     },
     "execution_count": 4,
     "metadata": {},
     "output_type": "execute_result"
    },
    {
     "data": {
      "image/png": "[encoded data removed]",
      "text/plain": [
       "<matplotlib.figure.Figure at 0x220fbdd8>"
      ]
     },
     "metadata": {},
     "output_type": "display_data"
    }
   ],
   "source": [
    "plt.hist(df[u\"震级值\"].dropna())"
   ]
  },
  {
   "cell_type": "code",
   "execution_count": 5,
   "metadata": {
    "collapsed": false
   },
   "outputs": [
    {
     "name": "stdout",
     "output_type": "stream",
     "text": [
      "四川    587\n",
      "云南    447\n",
      "新疆    293\n",
      "青海    131\n",
      "甘肃    102\n",
      "Name: 参考地名, dtype: int64\n",
      "新不    1\n",
      "海南    1\n",
      "先岛    1\n",
      "湖南    1\n",
      "阿富    1\n",
      "朝鲜    1\n",
      "越南    1\n",
      "菲律    1\n",
      "林芝    1\n",
      "勘察    1\n",
      "Name: 参考地名, dtype: int64\n"
     ]
    }
   ],
   "source": [
    "print df[u\"参考地名\"].map(lambda x: x[:2]).value_counts().head()\n",
    "print df[u\"参考地名\"].map(lambda x: x[:2]).value_counts().tail(n=10)"
   ]
  },
  {
   "cell_type": "code",
   "execution_count": 6,
   "metadata": {
    "collapsed": false,
    "scrolled": false
   },
   "outputs": [
    {
     "data": {
      "text/plain": [
       "<matplotlib.text.Text at 0x22539780>"
      ]
     },
     "execution_count": 6,
     "metadata": {},
     "output_type": "execute_result"
    },
    {
     "data": {
      "image/png": "[encoded data removed]",
      "text/plain": [
       "<matplotlib.figure.Figure at 0x220e4e80>"
      ]
     },
     "metadata": {},
     "output_type": "display_data"
    }
   ],
   "source": [
    "plt.figure()\n",
    "df[u\"参考地名\"].map(lambda x: x[:2]).value_counts()[:10].plot()\n",
    "plt.xlabel(u\"中文\", fontname=\"SimHei\")"
   ]
  },
  {
   "cell_type": "code",
   "execution_count": 7,
   "metadata": {
    "collapsed": false,
    "scrolled": false
   },
   "outputs": [
    {
     "data": {
      "text/plain": [
       "2016-04    1828\n",
       "2016-03     257\n",
       "Name: 日期, dtype: int64"
      ]
     },
     "execution_count": 7,
     "metadata": {},
     "output_type": "execute_result"
    }
   ],
   "source": [
    "df[u\"日期\"].map(lambda x: x[:7]).value_counts()"
   ]
  },
  {
   "cell_type": "raw",
   "metadata": {},
   "source": [
    "中国主要地震带"
   ]
  },
  {
   "cell_type": "code",
   "execution_count": 8,
   "metadata": {
    "collapsed": false
   },
   "outputs": [
    {
     "data": {
      "text/html": [
       "<img src=\"http://imgs.soufun.com/news/2011_03/21/news/1300673386834_000.jpg\"/>"
      ],
      "text/plain": [
       "<IPython.core.display.Image object>"
      ]
     },
     "execution_count": 8,
     "metadata": {},
     "output_type": "execute_result"
    }
   ],
   "source": [
    "from IPython.display import Image\n",
    "Image(url=\"http://imgs.soufun.com/news/2011_03/21/news/1300673386834_000.jpg\")"
   ]
  },
  {
   "cell_type": "code",
   "execution_count": null,
   "metadata": {
    "collapsed": true
   },
   "outputs": [],
   "source": []
  }
 ],
 "metadata": {
  "kernelspec": {
   "display_name": "Python 2",
   "language": "python",
   "name": "python2"
  },
  "language_info": {
   "codemirror_mode": {
    "name": "ipython",
    "version": 2
   },
   "file_extension": ".py",
   "mimetype": "text/x-python",
   "name": "python",
   "nbconvert_exporter": "python",
   "pygments_lexer": "ipython2",
   "version": "2.7.10"
  }
 },
 "nbformat": 4,
 "nbformat_minor": 0
}
